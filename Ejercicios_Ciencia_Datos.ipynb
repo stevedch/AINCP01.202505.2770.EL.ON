{
 "cells": [
  {
   "cell_type": "markdown",
   "id": "36b28ea4",
   "metadata": {},
   "source": [
    "### Ejercicio 2 - Título del Cuaderno\n",
    "\n",
    "# Introducción a la Ciencia de Datos con Python"
   ]
  },
  {
   "cell_type": "markdown",
   "id": "1f9882a4",
   "metadata": {},
   "source": [
    "### Ejercicio 3 - Introducción\n",
    "\n",
    "En este cuaderno se presentan conceptos básicos de la ciencia de datos utilizando el lenguaje de programación Python. A lo largo de los ejercicios se explorarán temas como operaciones aritméticas, uso de bibliotecas, herramientas y estructuras de datos fundamentales."
   ]
  },
  {
   "cell_type": "markdown",
   "id": "5eb25ad4",
   "metadata": {},
   "source": [
    "### Ejercicio 4 - Lenguajes de Programación en Ciencia de Datos\n",
    "\n",
    "A continuación se enumeran algunos de los lenguajes más utilizados en el campo de la ciencia de datos:\n",
    "\n",
    "1. **Python** – Popular por su simplicidad y amplia gama de librerías como Pandas, NumPy, Scikit-learn, TensorFlow y Matplotlib.\n",
    "2. **R** – Ideal para análisis estadístico y visualización de datos.\n",
    "3. **SQL** – Utilizado para la manipulación y consulta de bases de datos.\n",
    "4. **Julia** – Conocido por su alto rendimiento en cálculos numéricos y científicos.\n",
    "5. **Scala** – Frecuentemente usado junto con Apache Spark para el procesamiento de grandes volúmenes de datos.\n",
    "6. **Java** – Empleado en entornos de producción y para integrar soluciones de ciencia de datos.\n",
    "7. **MATLAB** – Usado en entornos académicos y de ingeniería para cálculos matemáticos avanzados.\n"
   ]
  },
  {
   "cell_type": "markdown",
   "id": "95ad4d47",
   "metadata": {},
   "source": [
    "### Ejercicio 5 - Bibliotecas de Ciencia de Datos\n",
    "\n",
    "A continuación se listan algunas de las bibliotecas más utilizadas en ciencia de datos:\n",
    "\n",
    "1. **NumPy** – Soporte para arreglos multidimensionales y operaciones matemáticas de alto rendimiento.  \n",
    "2. **Pandas** – Manipulación y análisis de datos estructurados (DataFrames).  \n",
    "3. **Matplotlib** – Visualización de datos mediante gráficos estáticos.  \n",
    "4. **Seaborn** – Visualizaciones estadísticas sobre Matplotlib, con una sintaxis más sencilla.  \n",
    "5. **Scikit-learn** – Algoritmos de machine learning y herramientas de modelado.  \n",
    "6. **TensorFlow** – Framework para construir y entrenar modelos de aprendizaje profundo.  \n",
    "7. **Keras** – API de alto nivel para redes neuronales, compatible con TensorFlow.  \n",
    "8. **PyTorch** – Biblioteca de deep learning flexible y dinámica.  \n",
    "9. **Statsmodels** – Análisis estadístico, modelos lineales y pruebas estadísticas.  \n",
    "10. **Plotly** – Gráficos interactivos y visualizaciones avanzadas.\n"
   ]
  },
  {
   "cell_type": "markdown",
   "id": "7a772b9a",
   "metadata": {},
   "source": [
    "### Ejercicio 6 - Tabla de Herramientas de Ciencia de Datos\n",
    "\n",
    "| Herramienta         | Descripción                                                  | Uso Principal                        |\n",
    "|---------------------|--------------------------------------------------------------|--------------------------------------|\n",
    "| **Jupyter Notebook**| Entorno interactivo para escribir y ejecutar código Python   | Análisis y visualización de datos    |\n",
    "| **Google Colab**    | Plataforma basada en la nube para notebooks de Python        | Ciencia de datos en la nube          |\n",
    "| **Apache Spark**    | Motor de análisis para procesamiento de big data             | Procesamiento distribuido de datos   |\n",
    "| **Tableau**         | Herramienta de visualización de datos                        | Dashboards e informes interactivos   |\n",
    "| **Power BI**        | Plataforma de análisis empresarial                           | Visualización y análisis de datos    |\n",
    "| **KNIME**           | Plataforma de análisis visual sin código                     | Flujo de trabajo de ciencia de datos |\n",
    "| **RapidMiner**      | Herramienta para análisis avanzado y machine learning        | Modelado predictivo sin código       |\n"
   ]
  },
  {
   "cell_type": "markdown",
   "id": "13c8faf4",
   "metadata": {},
   "source": [
    "### Ejercicio 7 - Ejemplos de Expresiones Aritméticas\n",
    "\n",
    "A continuación se presentan algunos ejemplos de expresiones aritméticas en Python:\n",
    "\n",
    "- **Suma:** `5 + 3` → Resultado: `8`  \n",
    "- **Resta:** `10 - 4` → Resultado: `6`  \n",
    "- **Multiplicación:** `7 * 2` → Resultado: `14`  \n",
    "- **División:** `8 / 2` → Resultado: `4.0`  \n",
    "- **Módulo (residuo):** `10 % 3` → Resultado: `1`  \n",
    "- **Potencia:** `2 ** 3` → Resultado: `8`  \n",
    "\n",
    "Estas operaciones básicas son fundamentales para cualquier cálculo en ciencia de datos.\n"
   ]
  },
  {
   "cell_type": "code",
   "execution_count": null,
   "id": "f9933ef2",
   "metadata": {},
   "outputs": [],
   "source": [
    "# Ejercicio 8 - Multiplicación y suma de números\n",
    "\n",
    "# Definición de variables\n",
    "a = 5\n",
    "b = 3\n",
    "\n",
    "# Operaciones\n",
    "multiplicacion = a * b\n",
    "suma = a + b\n",
    "\n",
    "# Resultados\n",
    "print(\"Multiplicación:\", multiplicacion)\n",
    "print(\"Suma:\", suma)\n"
   ]
  },
  {
   "cell_type": "code",
   "execution_count": null,
   "id": "c83a8864",
   "metadata": {},
   "outputs": [],
   "source": [
    "# Ejercicio 9 - Conversión de minutos a horas\n",
    "\n",
    "# Definir la cantidad de minutos\n",
    "minutos = 150\n",
    "\n",
    "# Convertir a horas (1 hora = 60 minutos)\n",
    "horas = minutos / 60\n",
    "\n",
    "# Mostrar el resultado\n",
    "print(\"Minutos:\", minutos)\n",
    "print(\"Equivalente en horas:\", horas)\n"
   ]
  },
  {
   "cell_type": "code",
   "execution_count": null,
   "id": "90ff18be",
   "metadata": {},
   "outputs": [],
   "source": [
    "# Ejercicio 10 - Listar Objetivos\n",
    "\n",
    "# Lista de objetivos\n",
    "objetivos = [\n",
    "    \"Aprender los fundamentos de Python\",\n",
    "    \"Comprender el análisis de datos\",\n",
    "    \"Aplicar técnicas de visualización\",\n",
    "    \"Dominar herramientas de ciencia de datos\"\n",
    "]\n",
    "\n",
    "# Mostrar los objetivos\n",
    "print(\"Lista de Objetivos:\")\n",
    "for i, objetivo in enumerate(objetivos, start=1):\n",
    "    print(f\"{i}. {objetivo}\")\n"
   ]
  },
  {
   "cell_type": "markdown",
   "id": "5ab656cb",
   "metadata": {},
   "source": [
    "### Ejercicio 11 - Nombre del Autor\n",
    "\n",
    "**Autor:** Steven Delgado Chacón\n"
   ]
  }
 ],
 "metadata": {},
 "nbformat": 4,
 "nbformat_minor": 5
}